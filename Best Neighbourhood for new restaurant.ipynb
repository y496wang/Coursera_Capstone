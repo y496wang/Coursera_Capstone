{
    "cells": [
        {
            "cell_type": "markdown",
            "metadata": {},
            "source": "# Best Neighbourhood in Toronto for new restaurant"
        },
        {
            "cell_type": "markdown",
            "metadata": {},
            "source": "### Problem Statement: \nJohn Smith is a good chief. After discussion with his family, he decides to open a new restaurant in Toronto. However, he doesn't know which is the best neighbourhood in Toronto for a new restaurant. He asks us to research and help him figure out the best neighbourhood. "
        },
        {
            "cell_type": "markdown",
            "metadata": {},
            "source": "### Data Source: \nwe will use the toronto data generated from last assignment, which contains the Borough, Postal Code, Neighbourhood, Latitude, Longitude. Further, we will use Foursuare API to pull venue data to find out the neighbourhood with most venues but least restaurants."
        },
        {
            "cell_type": "markdown",
            "metadata": {},
            "source": "# Methodology"
        },
        {
            "cell_type": "code",
            "execution_count": 1,
            "metadata": {},
            "outputs": [],
            "source": "# Import and load the toronto data from the previous assignment's result\n\nfrom project_lib import Project\nproject = Project(project_id=\"f3101ff4-e278-4a2c-8141-00afc30b3e09\",project_access_token=\"p-d28f16c105a5ce75a81225274d24530c67c9bc51\")\n\n# Fetch the file\nmy_file = project.get_file(\"torontodata.csv\")\n\n# Read the CSV data file from the object storage into a pandas DataFrame\nmy_file.seek(0)\nimport pandas as pd\ntorontodata = pd.read_csv(my_file)"
        },
        {
            "cell_type": "code",
            "execution_count": 2,
            "metadata": {},
            "outputs": [
                {
                    "data": {
                        "text/html": "<div>\n<style scoped>\n    .dataframe tbody tr th:only-of-type {\n        vertical-align: middle;\n    }\n\n    .dataframe tbody tr th {\n        vertical-align: top;\n    }\n\n    .dataframe thead th {\n        text-align: right;\n    }\n</style>\n<table border=\"1\" class=\"dataframe\">\n  <thead>\n    <tr style=\"text-align: right;\">\n      <th></th>\n      <th>Cluster</th>\n      <th>Postal Code</th>\n      <th>Borough</th>\n      <th>Neighbourhood</th>\n      <th>Latitude</th>\n      <th>Longitude</th>\n      <th>Borough_num</th>\n    </tr>\n  </thead>\n  <tbody>\n    <tr>\n      <th>0</th>\n      <td>0</td>\n      <td>M5A</td>\n      <td>Downtown Toronto</td>\n      <td>Regent Park, Harbourfront</td>\n      <td>43.654260</td>\n      <td>-79.360636</td>\n      <td>1</td>\n    </tr>\n    <tr>\n      <th>1</th>\n      <td>0</td>\n      <td>M7A</td>\n      <td>Downtown Toronto</td>\n      <td>Queen's Park, Ontario Provincial Government</td>\n      <td>43.662301</td>\n      <td>-79.389494</td>\n      <td>1</td>\n    </tr>\n    <tr>\n      <th>2</th>\n      <td>0</td>\n      <td>M5B</td>\n      <td>Downtown Toronto</td>\n      <td>Garden District, Ryerson</td>\n      <td>43.657162</td>\n      <td>-79.378937</td>\n      <td>1</td>\n    </tr>\n    <tr>\n      <th>3</th>\n      <td>0</td>\n      <td>M5C</td>\n      <td>Downtown Toronto</td>\n      <td>St. James Town</td>\n      <td>43.651494</td>\n      <td>-79.375418</td>\n      <td>1</td>\n    </tr>\n    <tr>\n      <th>4</th>\n      <td>3</td>\n      <td>M4E</td>\n      <td>East Toronto</td>\n      <td>The Beaches</td>\n      <td>43.676357</td>\n      <td>-79.293031</td>\n      <td>2</td>\n    </tr>\n  </tbody>\n</table>\n</div>",
                        "text/plain": "   Cluster Postal Code           Borough  \\\n0        0         M5A  Downtown Toronto   \n1        0         M7A  Downtown Toronto   \n2        0         M5B  Downtown Toronto   \n3        0         M5C  Downtown Toronto   \n4        3         M4E      East Toronto   \n\n                                 Neighbourhood   Latitude  Longitude  \\\n0                    Regent Park, Harbourfront  43.654260 -79.360636   \n1  Queen's Park, Ontario Provincial Government  43.662301 -79.389494   \n2                     Garden District, Ryerson  43.657162 -79.378937   \n3                               St. James Town  43.651494 -79.375418   \n4                                  The Beaches  43.676357 -79.293031   \n\n   Borough_num  \n0            1  \n1            1  \n2            1  \n3            1  \n4            2  "
                    },
                    "execution_count": 2,
                    "metadata": {},
                    "output_type": "execute_result"
                }
            ],
            "source": "# Explore the data\ntorontodata.head()"
        },
        {
            "cell_type": "code",
            "execution_count": 29,
            "metadata": {},
            "outputs": [
                {
                    "name": "stdout",
                    "output_type": "stream",
                    "text": "Requirement already satisfied: geopy in /opt/conda/envs/Python-3.7-main/lib/python3.7/site-packages (2.0.0)\nRequirement already satisfied: geographiclib<2,>=1.49 in /opt/conda/envs/Python-3.7-main/lib/python3.7/site-packages (from geopy) (1.50)\nRequirement already satisfied: folium==0.5.0 in /opt/conda/envs/Python-3.7-main/lib/python3.7/site-packages (0.5.0)\nRequirement already satisfied: six in /opt/conda/envs/Python-3.7-main/lib/python3.7/site-packages (from folium==0.5.0) (1.15.0)\nRequirement already satisfied: branca in /opt/conda/envs/Python-3.7-main/lib/python3.7/site-packages (from folium==0.5.0) (0.4.1)\nRequirement already satisfied: jinja2 in /opt/conda/envs/Python-3.7-main/lib/python3.7/site-packages (from folium==0.5.0) (2.11.2)\nRequirement already satisfied: requests in /opt/conda/envs/Python-3.7-main/lib/python3.7/site-packages (from folium==0.5.0) (2.24.0)\nRequirement already satisfied: MarkupSafe>=0.23 in /opt/conda/envs/Python-3.7-main/lib/python3.7/site-packages (from jinja2->folium==0.5.0) (1.1.1)\nRequirement already satisfied: certifi>=2017.4.17 in /opt/conda/envs/Python-3.7-main/lib/python3.7/site-packages (from requests->folium==0.5.0) (2020.12.5)\nRequirement already satisfied: idna<3,>=2.5 in /opt/conda/envs/Python-3.7-main/lib/python3.7/site-packages (from requests->folium==0.5.0) (2.9)\nRequirement already satisfied: urllib3!=1.25.0,!=1.25.1,<1.26,>=1.21.1 in /opt/conda/envs/Python-3.7-main/lib/python3.7/site-packages (from requests->folium==0.5.0) (1.25.9)\nRequirement already satisfied: chardet<4,>=3.0.2 in /opt/conda/envs/Python-3.7-main/lib/python3.7/site-packages (from requests->folium==0.5.0) (3.0.4)\nFolium installed\nLibraries imported.\nYour credentails:\nCLIENT_ID: MJC4YORCIR53PFIRETELJTH5U54AGWB4ZOVQSPSXQB0ULUMM\nCLIENT_SECRET:SRNCARHPWTD4GKHNRS02VIQ0ZVENWGXF2H0PHG5JTQY1N1TM\n"
                }
            ],
            "source": "# Import necessary libraries\n\nimport requests # library to handle requests\nimport numpy as np # library to handle data in a vectorized manner\nimport random # library for random number generation\n\n!pip install geopy\nfrom geopy.geocoders import Nominatim # module to convert an address into latitude and longitude values\n\n# libraries for displaying images\nfrom IPython.display import Image \nfrom IPython.core.display import HTML \n    \n# tranforming json file into a pandas dataframe library\nfrom pandas.io.json import json_normalize\n\nprint('Libraries imported.')"
        },
        {
            "cell_type": "code",
            "execution_count": 34,
            "metadata": {},
            "outputs": [
                {
                    "name": "stdout",
                    "output_type": "stream",
                    "text": "Your credentails:\nCLIENT_ID: MJC4YORCIR53PFIRETELJTH5U54AGWB4ZOVQSPSXQB0ULUMM\nCLIENT_SECRET:SRNCARHPWTD4GKHNRS02VIQ0ZVENWGXF2H0PHG5JTQY1N1TM\n"
                }
            ],
            "source": "# The code was removed by Watson Studio for sharing."
        },
        {
            "cell_type": "code",
            "execution_count": 35,
            "metadata": {},
            "outputs": [
                {
                    "name": "stdout",
                    "output_type": "stream",
                    "text": "Regent Park, Harbourfront\nQueen's Park, Ontario Provincial Government\nGarden District, Ryerson\nSt. James Town\nThe Beaches\nBerczy Park\nCentral Bay Street\nChristie\nRichmond, Adelaide, King\nDufferin, Dovercourt Village\nHarbourfront East, Union Station, Toronto Islands\nLittle Portugal, Trinity\nThe Danforth West, Riverdale\nToronto Dominion Centre, Design Exchange\nBrockton, Parkdale Village, Exhibition Place\nIndia Bazaar, The Beaches West\nCommerce Court, Victoria Hotel\nStudio District\nLawrence Park\nRoselawn\nDavisville North\nForest Hill North & West, Forest Hill Road Park\nHigh Park, The Junction South\nNorth Toronto West, Lawrence Park\nThe Annex, North Midtown, Yorkville\nParkdale, Roncesvalles\nDavisville\nUniversity of Toronto, Harbord\nRunnymede, Swansea\nMoore Park, Summerhill East\nKensington Market, Chinatown, Grange Park\nSummerhill West, Rathnelly, South Hill, Forest Hill SE, Deer Park\nCN Tower, King and Spadina, Railway Lands, Harbourfront West, Bathurst Quay, South Niagara, Island airport\nRosedale\nStn A PO Boxes\nSt. James Town, Cabbagetown\nFirst Canadian Place, Underground city\nChurch and Wellesley\nBusiness reply mail Processing Centre, South Central Letter Processing Plant Toronto\n"
                },
                {
                    "data": {
                        "text/html": "<div>\n<style scoped>\n    .dataframe tbody tr th:only-of-type {\n        vertical-align: middle;\n    }\n\n    .dataframe tbody tr th {\n        vertical-align: top;\n    }\n\n    .dataframe thead th {\n        text-align: right;\n    }\n</style>\n<table border=\"1\" class=\"dataframe\">\n  <thead>\n    <tr style=\"text-align: right;\">\n      <th></th>\n      <th>Neighbourhood</th>\n      <th>Neighbourhood Latitude</th>\n      <th>Neighbourhood Longitude</th>\n      <th>Venue</th>\n      <th>Venue Latitude</th>\n      <th>Venue Longitude</th>\n      <th>Venue Category</th>\n    </tr>\n  </thead>\n  <tbody>\n    <tr>\n      <th>0</th>\n      <td>Regent Park, Harbourfront</td>\n      <td>43.65426</td>\n      <td>-79.360636</td>\n      <td>Roselle Desserts</td>\n      <td>43.653447</td>\n      <td>-79.362017</td>\n      <td>Bakery</td>\n    </tr>\n    <tr>\n      <th>1</th>\n      <td>Regent Park, Harbourfront</td>\n      <td>43.65426</td>\n      <td>-79.360636</td>\n      <td>Tandem Coffee</td>\n      <td>43.653559</td>\n      <td>-79.361809</td>\n      <td>Coffee Shop</td>\n    </tr>\n    <tr>\n      <th>2</th>\n      <td>Regent Park, Harbourfront</td>\n      <td>43.65426</td>\n      <td>-79.360636</td>\n      <td>Cooper Koo Family YMCA</td>\n      <td>43.653249</td>\n      <td>-79.358008</td>\n      <td>Distribution Center</td>\n    </tr>\n    <tr>\n      <th>3</th>\n      <td>Regent Park, Harbourfront</td>\n      <td>43.65426</td>\n      <td>-79.360636</td>\n      <td>Morning Glory Cafe</td>\n      <td>43.653947</td>\n      <td>-79.361149</td>\n      <td>Breakfast Spot</td>\n    </tr>\n    <tr>\n      <th>4</th>\n      <td>Regent Park, Harbourfront</td>\n      <td>43.65426</td>\n      <td>-79.360636</td>\n      <td>Body Blitz Spa East</td>\n      <td>43.654735</td>\n      <td>-79.359874</td>\n      <td>Spa</td>\n    </tr>\n  </tbody>\n</table>\n</div>",
                        "text/plain": "               Neighbourhood  Neighbourhood Latitude  Neighbourhood Longitude  \\\n0  Regent Park, Harbourfront                43.65426               -79.360636   \n1  Regent Park, Harbourfront                43.65426               -79.360636   \n2  Regent Park, Harbourfront                43.65426               -79.360636   \n3  Regent Park, Harbourfront                43.65426               -79.360636   \n4  Regent Park, Harbourfront                43.65426               -79.360636   \n\n                    Venue  Venue Latitude  Venue Longitude  \\\n0        Roselle Desserts       43.653447       -79.362017   \n1           Tandem Coffee       43.653559       -79.361809   \n2  Cooper Koo Family YMCA       43.653249       -79.358008   \n3      Morning Glory Cafe       43.653947       -79.361149   \n4     Body Blitz Spa East       43.654735       -79.359874   \n\n        Venue Category  \n0               Bakery  \n1          Coffee Shop  \n2  Distribution Center  \n3       Breakfast Spot  \n4                  Spa  "
                    },
                    "execution_count": 35,
                    "metadata": {},
                    "output_type": "execute_result"
                }
            ],
            "source": "# Define a function to get all venues near a neighborhood in Toronto\n\ndef getNearbyVenues(names, latitudes, longitudes, radius=500):\n    \n    venues_list=[]\n    for name, lat, lng in zip(names, latitudes, longitudes):\n        print(name)\n            \n        # create the API request URL\n        url = 'https://api.foursquare.com/v2/venues/explore?&client_id={}&client_secret={}&v={}&ll={},{}&radius={}&limit={}'.format(\n            CLIENT_ID, \n            CLIENT_SECRET, \n            VERSION, \n            lat, \n            lng, \n            radius, \n            LIMIT)\n            \n        # make the GET request\n        results = requests.get(url).json()[\"response\"]['groups'][0]['items']\n        \n        # return only relevant information for each nearby venue\n        venues_list.append([(\n            name, \n            lat, \n            lng, \n            v['venue']['name'], \n            v['venue']['location']['lat'], \n            v['venue']['location']['lng'],  \n            v['venue']['categories'][0]['name']) for v in results])\n\n    nearby_venues = pd.DataFrame([item for venue_list in venues_list for item in venue_list])\n    nearby_venues.columns = ['Neighbourhood', \n                  'Neighbourhood Latitude', \n                  'Neighbourhood Longitude', \n                  'Venue', \n                  'Venue Latitude', \n                  'Venue Longitude', \n                  'Venue Category']\n    \n    return(nearby_venues)\n\n# run the function on each neighborhood and generate dataframe \ntoronto_venues = getNearbyVenues(torontodata.Neighbourhood, torontodata.Latitude, torontodata.Longitude, radius=500)\ntoronto_venues.head()"
        },
        {
            "cell_type": "markdown",
            "metadata": {},
            "source": "# Results"
        },
        {
            "cell_type": "code",
            "execution_count": 73,
            "metadata": {},
            "outputs": [
                {
                    "data": {
                        "text/html": "<div>\n<style scoped>\n    .dataframe tbody tr th:only-of-type {\n        vertical-align: middle;\n    }\n\n    .dataframe tbody tr th {\n        vertical-align: top;\n    }\n\n    .dataframe thead th {\n        text-align: right;\n    }\n</style>\n<table border=\"1\" class=\"dataframe\">\n  <thead>\n    <tr style=\"text-align: right;\">\n      <th></th>\n      <th>Venue Number</th>\n    </tr>\n    <tr>\n      <th>Neighbourhood</th>\n      <th></th>\n    </tr>\n  </thead>\n  <tbody>\n    <tr>\n      <th>Toronto Dominion Centre, Design Exchange</th>\n      <td>100</td>\n    </tr>\n    <tr>\n      <th>Commerce Court, Victoria Hotel</th>\n      <td>100</td>\n    </tr>\n    <tr>\n      <th>First Canadian Place, Underground city</th>\n      <td>100</td>\n    </tr>\n    <tr>\n      <th>Garden District, Ryerson</th>\n      <td>100</td>\n    </tr>\n    <tr>\n      <th>Harbourfront East, Union Station, Toronto Islands</th>\n      <td>100</td>\n    </tr>\n  </tbody>\n</table>\n</div>",
                        "text/plain": "                                                   Venue Number\nNeighbourhood                                                  \nToronto Dominion Centre, Design Exchange                    100\nCommerce Court, Victoria Hotel                              100\nFirst Canadian Place, Underground city                      100\nGarden District, Ryerson                                    100\nHarbourfront East, Union Station, Toronto Islands           100"
                    },
                    "execution_count": 73,
                    "metadata": {},
                    "output_type": "execute_result"
                }
            ],
            "source": "# Generate neighbourhoods with the number of total venues within a radius of 500m.\ntotalvenue = toronto_venues.groupby('Neighbourhood').count().sort_values(by='Venue', ascending=False)[['Venue']]\ntotalvenue.rename(columns={'Venue':'Venue Number'}, inplace=True)\ntotalvenue.head()"
        },
        {
            "cell_type": "code",
            "execution_count": 74,
            "metadata": {
                "scrolled": true
            },
            "outputs": [
                {
                    "data": {
                        "text/html": "<div>\n<style scoped>\n    .dataframe tbody tr th:only-of-type {\n        vertical-align: middle;\n    }\n\n    .dataframe tbody tr th {\n        vertical-align: top;\n    }\n\n    .dataframe thead th {\n        text-align: right;\n    }\n</style>\n<table border=\"1\" class=\"dataframe\">\n  <thead>\n    <tr style=\"text-align: right;\">\n      <th></th>\n      <th>Restaurant Number</th>\n    </tr>\n    <tr>\n      <th>Neighbourhood</th>\n      <th></th>\n    </tr>\n  </thead>\n  <tbody>\n    <tr>\n      <th>Commerce Court, Victoria Hotel</th>\n      <td>7</td>\n    </tr>\n    <tr>\n      <th>Toronto Dominion Centre, Design Exchange</th>\n      <td>4</td>\n    </tr>\n    <tr>\n      <th>First Canadian Place, Underground city</th>\n      <td>4</td>\n    </tr>\n    <tr>\n      <th>Richmond, Adelaide, King</th>\n      <td>4</td>\n    </tr>\n    <tr>\n      <th>Harbourfront East, Union Station, Toronto Islands</th>\n      <td>3</td>\n    </tr>\n  </tbody>\n</table>\n</div>",
                        "text/plain": "                                                   Restaurant Number\nNeighbourhood                                                       \nCommerce Court, Victoria Hotel                                     7\nToronto Dominion Centre, Design Exchange                           4\nFirst Canadian Place, Underground city                             4\nRichmond, Adelaide, King                                           4\nHarbourfront East, Union Station, Toronto Islands                  3"
                    },
                    "execution_count": 74,
                    "metadata": {},
                    "output_type": "execute_result"
                }
            ],
            "source": "# Generate neighbourhoods with the number of total restaurants within a radius of 500m.\nrestaurantvenue = toronto_venues[toronto_venues['Venue Category'] == 'Restaurant']\ntopneigh = restaurantvenue.groupby('Neighbourhood').count().sort_values(by='Venue', ascending=False)[['Venue']]\ntopneigh.rename(columns={'Venue':'Restaurant Number'}, inplace=True)\ntopneigh.head()"
        },
        {
            "cell_type": "code",
            "execution_count": 75,
            "metadata": {},
            "outputs": [
                {
                    "data": {
                        "text/html": "<div>\n<style scoped>\n    .dataframe tbody tr th:only-of-type {\n        vertical-align: middle;\n    }\n\n    .dataframe tbody tr th {\n        vertical-align: top;\n    }\n\n    .dataframe thead th {\n        text-align: right;\n    }\n</style>\n<table border=\"1\" class=\"dataframe\">\n  <thead>\n    <tr style=\"text-align: right;\">\n      <th></th>\n      <th>Venue Number</th>\n      <th>Restaurant Number</th>\n    </tr>\n    <tr>\n      <th>Neighbourhood</th>\n      <th></th>\n      <th></th>\n    </tr>\n  </thead>\n  <tbody>\n    <tr>\n      <th>Garden District, Ryerson</th>\n      <td>100</td>\n      <td>1</td>\n    </tr>\n    <tr>\n      <th>Harbourfront East, Union Station, Toronto Islands</th>\n      <td>100</td>\n      <td>3</td>\n    </tr>\n    <tr>\n      <th>Toronto Dominion Centre, Design Exchange</th>\n      <td>100</td>\n      <td>4</td>\n    </tr>\n    <tr>\n      <th>First Canadian Place, Underground city</th>\n      <td>100</td>\n      <td>4</td>\n    </tr>\n    <tr>\n      <th>Commerce Court, Victoria Hotel</th>\n      <td>100</td>\n      <td>7</td>\n    </tr>\n  </tbody>\n</table>\n</div>",
                        "text/plain": "                                                   Venue Number  \\\nNeighbourhood                                                     \nGarden District, Ryerson                                    100   \nHarbourfront East, Union Station, Toronto Islands           100   \nToronto Dominion Centre, Design Exchange                    100   \nFirst Canadian Place, Underground city                      100   \nCommerce Court, Victoria Hotel                              100   \n\n                                                   Restaurant Number  \nNeighbourhood                                                         \nGarden District, Ryerson                                           1  \nHarbourfront East, Union Station, Toronto Islands                  3  \nToronto Dominion Centre, Design Exchange                           4  \nFirst Canadian Place, Underground city                             4  \nCommerce Court, Victoria Hotel                                     7  "
                    },
                    "execution_count": 75,
                    "metadata": {},
                    "output_type": "execute_result"
                }
            ],
            "source": "# merge the number of venues and restaurants into one dataframe\nbestneigh = pd.merge(totalvenue, topneigh, on='Neighbourhood')\ntopneigh = bestneigh[bestneigh['Venue Number'] == bestneigh['Venue Number'].max()].sort_values('Restaurant Number',ascending=True)\ntopneigh"
        },
        {
            "cell_type": "markdown",
            "metadata": {},
            "source": "# Discussion"
        },
        {
            "cell_type": "markdown",
            "metadata": {},
            "source": "### limitation\nThe Foursquare explore API has a limit of 100 venues, which can't effectively identify the real total number of venues near the neighbourhood"
        },
        {
            "cell_type": "markdown",
            "metadata": {},
            "source": "# Conclusion"
        },
        {
            "cell_type": "code",
            "execution_count": 76,
            "metadata": {},
            "outputs": [
                {
                    "name": "stdout",
                    "output_type": "stream",
                    "text": "The Neighbourhood Garden District, Ryerson is the best one because it has the most venues and least restaurants\n"
                }
            ],
            "source": "print('The Neighbourhood {} is the best one because it has the most venues and least restaurants'.format(str(topneigh.index[0])))"
        }
    ],
    "metadata": {
        "kernelspec": {
            "display_name": "Python 3.7",
            "language": "python",
            "name": "python3"
        },
        "language_info": {
            "codemirror_mode": {
                "name": "ipython",
                "version": 3
            },
            "file_extension": ".py",
            "mimetype": "text/x-python",
            "name": "python",
            "nbconvert_exporter": "python",
            "pygments_lexer": "ipython3",
            "version": "3.7.9"
        }
    },
    "nbformat": 4,
    "nbformat_minor": 1
}